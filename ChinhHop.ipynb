{
 "cells": [
  {
   "cell_type": "code",
   "execution_count": 11,
   "metadata": {},
   "outputs": [],
   "source": [
    "def permutations(n,r):\n",
    "    if r == 1:\n",
    "        return [[i] for i in range (1, n+1)]\n",
    "    \n",
    "    A = []\n",
    "    for a in permutations(n, r-1):\n",
    "        c = set([i for i in range (1, n+1)]) - set(a)\n",
    "        for i in c:\n",
    "            b = a.copy()\n",
    "            b.append(i)\n",
    "            A.append(b)\n",
    "    return A\n",
    "\n",
    "    "
   ]
  },
  {
   "cell_type": "code",
   "execution_count": 12,
   "metadata": {},
   "outputs": [
    {
     "ename": "TypeError",
     "evalue": "can only concatenate list (not \"int\") to list",
     "output_type": "error",
     "traceback": [
      "\u001b[1;31m---------------------------------------------------------------------------\u001b[0m",
      "\u001b[1;31mTypeError\u001b[0m                                 Traceback (most recent call last)",
      "\u001b[1;32md:\\HỌC TẬP\\Python\\toán rời rạc\\ChinhHop.ipynb Cell 2\u001b[0m in \u001b[0;36m<cell line: 1>\u001b[1;34m()\u001b[0m\n\u001b[1;32m----> <a href='vscode-notebook-cell:/d%3A/H%E1%BB%8CC%20T%E1%BA%ACP/Python/to%C3%A1n%20r%E1%BB%9Di%20r%E1%BA%A1c/ChinhHop.ipynb#W1sZmlsZQ%3D%3D?line=0'>1</a>\u001b[0m permutations([\u001b[39m'\u001b[39;49m\u001b[39ma\u001b[39;49m\u001b[39m'\u001b[39;49m, \u001b[39m'\u001b[39;49m\u001b[39mb\u001b[39;49m\u001b[39m'\u001b[39;49m, \u001b[39m'\u001b[39;49m\u001b[39mc\u001b[39;49m\u001b[39m'\u001b[39;49m,\u001b[39m'\u001b[39;49m\u001b[39md\u001b[39;49m\u001b[39m'\u001b[39;49m],\u001b[39m3\u001b[39;49m)\n",
      "\u001b[1;32md:\\HỌC TẬP\\Python\\toán rời rạc\\ChinhHop.ipynb Cell 2\u001b[0m in \u001b[0;36mpermutations\u001b[1;34m(n, r)\u001b[0m\n\u001b[0;32m      <a href='vscode-notebook-cell:/d%3A/H%E1%BB%8CC%20T%E1%BA%ACP/Python/to%C3%A1n%20r%E1%BB%9Di%20r%E1%BA%A1c/ChinhHop.ipynb#W1sZmlsZQ%3D%3D?line=2'>3</a>\u001b[0m     \u001b[39mreturn\u001b[39;00m [[i] \u001b[39mfor\u001b[39;00m i \u001b[39min\u001b[39;00m \u001b[39mrange\u001b[39m (\u001b[39m1\u001b[39m, n\u001b[39m+\u001b[39m\u001b[39m1\u001b[39m)]\n\u001b[0;32m      <a href='vscode-notebook-cell:/d%3A/H%E1%BB%8CC%20T%E1%BA%ACP/Python/to%C3%A1n%20r%E1%BB%9Di%20r%E1%BA%A1c/ChinhHop.ipynb#W1sZmlsZQ%3D%3D?line=4'>5</a>\u001b[0m A \u001b[39m=\u001b[39m []\n\u001b[1;32m----> <a href='vscode-notebook-cell:/d%3A/H%E1%BB%8CC%20T%E1%BA%ACP/Python/to%C3%A1n%20r%E1%BB%9Di%20r%E1%BA%A1c/ChinhHop.ipynb#W1sZmlsZQ%3D%3D?line=5'>6</a>\u001b[0m \u001b[39mfor\u001b[39;00m a \u001b[39min\u001b[39;00m permutations(n, r\u001b[39m-\u001b[39;49m\u001b[39m1\u001b[39;49m):\n\u001b[0;32m      <a href='vscode-notebook-cell:/d%3A/H%E1%BB%8CC%20T%E1%BA%ACP/Python/to%C3%A1n%20r%E1%BB%9Di%20r%E1%BA%A1c/ChinhHop.ipynb#W1sZmlsZQ%3D%3D?line=6'>7</a>\u001b[0m     c \u001b[39m=\u001b[39m \u001b[39mset\u001b[39m([i \u001b[39mfor\u001b[39;00m i \u001b[39min\u001b[39;00m \u001b[39mrange\u001b[39m (\u001b[39m1\u001b[39m, n\u001b[39m+\u001b[39m\u001b[39m1\u001b[39m)]) \u001b[39m-\u001b[39m \u001b[39mset\u001b[39m(a)\n\u001b[0;32m      <a href='vscode-notebook-cell:/d%3A/H%E1%BB%8CC%20T%E1%BA%ACP/Python/to%C3%A1n%20r%E1%BB%9Di%20r%E1%BA%A1c/ChinhHop.ipynb#W1sZmlsZQ%3D%3D?line=7'>8</a>\u001b[0m     \u001b[39mfor\u001b[39;00m i \u001b[39min\u001b[39;00m c:\n",
      "\u001b[1;32md:\\HỌC TẬP\\Python\\toán rời rạc\\ChinhHop.ipynb Cell 2\u001b[0m in \u001b[0;36mpermutations\u001b[1;34m(n, r)\u001b[0m\n\u001b[0;32m      <a href='vscode-notebook-cell:/d%3A/H%E1%BB%8CC%20T%E1%BA%ACP/Python/to%C3%A1n%20r%E1%BB%9Di%20r%E1%BA%A1c/ChinhHop.ipynb#W1sZmlsZQ%3D%3D?line=2'>3</a>\u001b[0m     \u001b[39mreturn\u001b[39;00m [[i] \u001b[39mfor\u001b[39;00m i \u001b[39min\u001b[39;00m \u001b[39mrange\u001b[39m (\u001b[39m1\u001b[39m, n\u001b[39m+\u001b[39m\u001b[39m1\u001b[39m)]\n\u001b[0;32m      <a href='vscode-notebook-cell:/d%3A/H%E1%BB%8CC%20T%E1%BA%ACP/Python/to%C3%A1n%20r%E1%BB%9Di%20r%E1%BA%A1c/ChinhHop.ipynb#W1sZmlsZQ%3D%3D?line=4'>5</a>\u001b[0m A \u001b[39m=\u001b[39m []\n\u001b[1;32m----> <a href='vscode-notebook-cell:/d%3A/H%E1%BB%8CC%20T%E1%BA%ACP/Python/to%C3%A1n%20r%E1%BB%9Di%20r%E1%BA%A1c/ChinhHop.ipynb#W1sZmlsZQ%3D%3D?line=5'>6</a>\u001b[0m \u001b[39mfor\u001b[39;00m a \u001b[39min\u001b[39;00m permutations(n, r\u001b[39m-\u001b[39;49m\u001b[39m1\u001b[39;49m):\n\u001b[0;32m      <a href='vscode-notebook-cell:/d%3A/H%E1%BB%8CC%20T%E1%BA%ACP/Python/to%C3%A1n%20r%E1%BB%9Di%20r%E1%BA%A1c/ChinhHop.ipynb#W1sZmlsZQ%3D%3D?line=6'>7</a>\u001b[0m     c \u001b[39m=\u001b[39m \u001b[39mset\u001b[39m([i \u001b[39mfor\u001b[39;00m i \u001b[39min\u001b[39;00m \u001b[39mrange\u001b[39m (\u001b[39m1\u001b[39m, n\u001b[39m+\u001b[39m\u001b[39m1\u001b[39m)]) \u001b[39m-\u001b[39m \u001b[39mset\u001b[39m(a)\n\u001b[0;32m      <a href='vscode-notebook-cell:/d%3A/H%E1%BB%8CC%20T%E1%BA%ACP/Python/to%C3%A1n%20r%E1%BB%9Di%20r%E1%BA%A1c/ChinhHop.ipynb#W1sZmlsZQ%3D%3D?line=7'>8</a>\u001b[0m     \u001b[39mfor\u001b[39;00m i \u001b[39min\u001b[39;00m c:\n",
      "\u001b[1;32md:\\HỌC TẬP\\Python\\toán rời rạc\\ChinhHop.ipynb Cell 2\u001b[0m in \u001b[0;36mpermutations\u001b[1;34m(n, r)\u001b[0m\n\u001b[0;32m      <a href='vscode-notebook-cell:/d%3A/H%E1%BB%8CC%20T%E1%BA%ACP/Python/to%C3%A1n%20r%E1%BB%9Di%20r%E1%BA%A1c/ChinhHop.ipynb#W1sZmlsZQ%3D%3D?line=0'>1</a>\u001b[0m \u001b[39mdef\u001b[39;00m \u001b[39mpermutations\u001b[39m(n,r):\n\u001b[0;32m      <a href='vscode-notebook-cell:/d%3A/H%E1%BB%8CC%20T%E1%BA%ACP/Python/to%C3%A1n%20r%E1%BB%9Di%20r%E1%BA%A1c/ChinhHop.ipynb#W1sZmlsZQ%3D%3D?line=1'>2</a>\u001b[0m     \u001b[39mif\u001b[39;00m r \u001b[39m==\u001b[39m \u001b[39m1\u001b[39m:\n\u001b[1;32m----> <a href='vscode-notebook-cell:/d%3A/H%E1%BB%8CC%20T%E1%BA%ACP/Python/to%C3%A1n%20r%E1%BB%9Di%20r%E1%BA%A1c/ChinhHop.ipynb#W1sZmlsZQ%3D%3D?line=2'>3</a>\u001b[0m         \u001b[39mreturn\u001b[39;00m [[i] \u001b[39mfor\u001b[39;00m i \u001b[39min\u001b[39;00m \u001b[39mrange\u001b[39m (\u001b[39m1\u001b[39m, n\u001b[39m+\u001b[39;49m\u001b[39m1\u001b[39;49m)]\n\u001b[0;32m      <a href='vscode-notebook-cell:/d%3A/H%E1%BB%8CC%20T%E1%BA%ACP/Python/to%C3%A1n%20r%E1%BB%9Di%20r%E1%BA%A1c/ChinhHop.ipynb#W1sZmlsZQ%3D%3D?line=4'>5</a>\u001b[0m     A \u001b[39m=\u001b[39m []\n\u001b[0;32m      <a href='vscode-notebook-cell:/d%3A/H%E1%BB%8CC%20T%E1%BA%ACP/Python/to%C3%A1n%20r%E1%BB%9Di%20r%E1%BA%A1c/ChinhHop.ipynb#W1sZmlsZQ%3D%3D?line=5'>6</a>\u001b[0m     \u001b[39mfor\u001b[39;00m a \u001b[39min\u001b[39;00m permutations(n, r\u001b[39m-\u001b[39m\u001b[39m1\u001b[39m):\n",
      "\u001b[1;31mTypeError\u001b[0m: can only concatenate list (not \"int\") to list"
     ]
    }
   ],
   "source": [
    "permutations(['a', 'b', 'c','d'],3)"
   ]
  },
  {
   "cell_type": "code",
   "execution_count": null,
   "metadata": {},
   "outputs": [],
   "source": []
  }
 ],
 "metadata": {
  "kernelspec": {
   "display_name": "Python 3",
   "language": "python",
   "name": "python3"
  },
  "language_info": {
   "codemirror_mode": {
    "name": "ipython",
    "version": 3
   },
   "file_extension": ".py",
   "mimetype": "text/x-python",
   "name": "python",
   "nbconvert_exporter": "python",
   "pygments_lexer": "ipython3",
   "version": "3.10.11"
  },
  "orig_nbformat": 4
 },
 "nbformat": 4,
 "nbformat_minor": 2
}
