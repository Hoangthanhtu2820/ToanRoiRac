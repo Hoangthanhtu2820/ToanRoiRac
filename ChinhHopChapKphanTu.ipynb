{
 "cells": [
  {
   "cell_type": "code",
   "execution_count": 1,
   "metadata": {},
   "outputs": [
    {
     "name": "stdout",
     "output_type": "stream",
     "text": [
      "['a', 'b', 'c', 'e', 'd']\n",
      "['a', 'b', 'd', 'c', 'e']\n",
      "['a', 'b', 'd', 'e', 'c']\n",
      "['a', 'b', 'e', 'c', 'd']\n",
      "['a', 'b', 'e', 'd', 'c']\n",
      "['a', 'c', 'b', 'd', 'e']\n",
      "['a', 'c', 'b', 'e', 'd']\n",
      "['a', 'c', 'd', 'b', 'e']\n",
      "['a', 'c', 'd', 'e', 'b']\n",
      "['a', 'c', 'e', 'b', 'd']\n",
      "['a', 'c', 'e', 'd', 'b']\n",
      "['a', 'd', 'b', 'c', 'e']\n",
      "['a', 'd', 'b', 'e', 'c']\n",
      "['a', 'd', 'c', 'b', 'e']\n",
      "['a', 'd', 'c', 'e', 'b']\n",
      "['a', 'd', 'e', 'b', 'c']\n",
      "['a', 'd', 'e', 'c', 'b']\n",
      "['a', 'e', 'b', 'c', 'd']\n",
      "['a', 'e', 'b', 'd', 'c']\n"
     ]
    }
   ],
   "source": [
    "def next_permulations(a):\n",
    "    # a=[3,6,2,5,4,1]\n",
    "    n=len(a)\n",
    "    k=n-1\n",
    "    while a[k]<a[k-1]:\n",
    "        k-=1\n",
    "    i=n-1\n",
    "    while a[k-1]>a[i]:\n",
    "        i-=1\n",
    "    #doi cho\n",
    "    a[k-1], a[i] =a[i],a[k-1]\n",
    "    #dao day con\n",
    "    l=a[:k]\n",
    "    r=a[k:]\n",
    "    r.reverse()\n",
    "    return l+r\n",
    "a=['a' , 'b', 'c','d', 'e',]\n",
    "for i in range(19):\n",
    "  a=next_permulations(a)\n",
    "  print(a)"
   ]
  },
  {
   "cell_type": "code",
   "execution_count": null,
   "metadata": {},
   "outputs": [],
   "source": []
  }
 ],
 "metadata": {
  "kernelspec": {
   "display_name": "Python 3",
   "language": "python",
   "name": "python3"
  },
  "language_info": {
   "codemirror_mode": {
    "name": "ipython",
    "version": 3
   },
   "file_extension": ".py",
   "mimetype": "text/x-python",
   "name": "python",
   "nbconvert_exporter": "python",
   "pygments_lexer": "ipython3",
   "version": "3.10.11"
  },
  "orig_nbformat": 4
 },
 "nbformat": 4,
 "nbformat_minor": 2
}
