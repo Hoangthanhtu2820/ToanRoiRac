{
 "cells": [
  {
   "cell_type": "code",
   "execution_count": 1,
   "metadata": {},
   "outputs": [],
   "source": [
    "from sympy import *"
   ]
  },
  {
   "cell_type": "code",
   "execution_count": 2,
   "metadata": {},
   "outputs": [
    {
     "data": {
      "text/plain": [
       "{2: 2, 3: 1, 5: 1, 17: 1, 31: 2}"
      ]
     },
     "execution_count": 2,
     "metadata": {},
     "output_type": "execute_result"
    }
   ],
   "source": [
    "factorint(980220)"
   ]
  },
  {
   "cell_type": "code",
   "execution_count": 9,
   "metadata": {},
   "outputs": [],
   "source": [
    "def my_factorint(n):\n",
    "    i = 2\n",
    "    d = {}\n",
    "    while n>2:\n",
    "        while n %i != 0:\n",
    "            i+=1\n",
    "        d[i] = 0\n",
    "        while n %i==0:\n",
    "            n = n//i\n",
    "            d[i]+=1\n",
    "    return d        "
   ]
  },
  {
   "cell_type": "code",
   "execution_count": 10,
   "metadata": {},
   "outputs": [
    {
     "data": {
      "text/plain": [
       "{2: 2, 3: 1, 5: 1, 17: 1, 31: 2}"
      ]
     },
     "execution_count": 10,
     "metadata": {},
     "output_type": "execute_result"
    }
   ],
   "source": [
    "my_factorint(980220)"
   ]
  },
  {
   "cell_type": "code",
   "execution_count": 5,
   "metadata": {},
   "outputs": [
    {
     "data": {
      "text/plain": [
       "516"
      ]
     },
     "execution_count": 5,
     "metadata": {},
     "output_type": "execute_result"
    }
   ],
   "source": [
    "# chuyển đổi 4031 từ hệ cơ số 5 sang hệ cơ số 10\n",
    "a = [1,3,0,4]\n",
    "b = 5\n",
    "k = len(a) # hàng cao nhất là k-1\n",
    "n = a[0]\n",
    "p = 1\n",
    "for i in range(1,k):\n",
    "    p *= b\n",
    "    n += a[i]*p\n",
    "n    "
   ]
  },
  {
   "cell_type": "code",
   "execution_count": 1,
   "metadata": {},
   "outputs": [
    {
     "data": {
      "text/plain": [
       "516"
      ]
     },
     "execution_count": 1,
     "metadata": {},
     "output_type": "execute_result"
    }
   ],
   "source": [
    "# chuyển đổi 4031 từ hệ cơ số 5 sang hệ cơ số 10\n",
    "a = [1,3,0,4]\n",
    "b = 5\n",
    "k = len(a)\n",
    "n = a[k-1]\n",
    "for i in range(k-2,-1,-1):\n",
    "    n = n * b + a[i]\n",
    "n\n"
   ]
  },
  {
   "cell_type": "code",
   "execution_count": 18,
   "metadata": {},
   "outputs": [
    {
     "data": {
      "text/plain": [
       "[1, 3, 0, 4]"
      ]
     },
     "execution_count": 18,
     "metadata": {},
     "output_type": "execute_result"
    }
   ],
   "source": [
    "# biểu diễn của 516 trong cơ số 5\n",
    "n = 516\n",
    "b = 5\n",
    "a = []\n",
    "while (n != 0):\n",
    "    a.append(n % b)\n",
    "    n = n // b\n",
    "a"
   ]
  },
  {
   "cell_type": "code",
   "execution_count": 8,
   "metadata": {},
   "outputs": [
    {
     "data": {
      "text/plain": [
       "12345"
      ]
     },
     "execution_count": 8,
     "metadata": {},
     "output_type": "execute_result"
    }
   ],
   "source": [
    "# Tính giá trị biểu diễn\n",
    "# tính 30071 từ cơ số 8 ra cơ số 10\n",
    "a = [1, 7, 0, 0, 3]\n",
    "b = 8\n",
    "n = 0\n",
    "for i in range(len(a) - 1, -1, -1):\n",
    "    n = n * b + a[i]\n",
    "n\n"
   ]
  },
  {
   "cell_type": "code",
   "execution_count": 10,
   "metadata": {},
   "outputs": [
    {
     "data": {
      "text/plain": [
       "263"
      ]
     },
     "execution_count": 10,
     "metadata": {},
     "output_type": "execute_result"
    }
   ],
   "source": [
    "# Tính giá trị biểu diễn\n",
    "a = [3, 2, 0, 2]\n",
    "b = 5\n",
    "n = 0\n",
    "for i in range(len(a) - 1, -1, -1):\n",
    "    n = n*b + a[i]\n",
    "n \n"
   ]
  },
  {
   "cell_type": "code",
   "execution_count": 14,
   "metadata": {},
   "outputs": [
    {
     "data": {
      "text/plain": [
       "[3, 7, 4, 7]"
      ]
     },
     "execution_count": 14,
     "metadata": {},
     "output_type": "execute_result"
    }
   ],
   "source": [
    "# Tìm biểu diễn của 2023 trong cơ số 8\n",
    "n , b = 2023 , 8\n",
    "a = []\n",
    "while n != 0:\n",
    "    a = [n % b] + a\n",
    "    n //=b\n",
    "a"
   ]
  },
  {
   "cell_type": "code",
   "execution_count": 8,
   "metadata": {},
   "outputs": [
    {
     "data": {
      "text/plain": [
       "[1, 2, 1, 2, 1]"
      ]
     },
     "execution_count": 8,
     "metadata": {},
     "output_type": "execute_result"
    }
   ],
   "source": [
    "# cộng số nguyên trong cơ số\n",
    "a = [1,3,2,4]\n",
    "b = [0,4,3,2]\n",
    "k = len(a)\n",
    "r = 0\n",
    "base = 5\n",
    "s = [0]*(k+1)\n",
    "for i in range(k):\n",
    "    t = a[i] + b[i] + r\n",
    "    s[i] = t % base\n",
    "    r = t // base\n",
    "    s[k] = r\n",
    "s\n",
    "\n"
   ]
  },
  {
   "cell_type": "code",
   "execution_count": null,
   "metadata": {},
   "outputs": [],
   "source": []
  }
 ],
 "metadata": {
  "kernelspec": {
   "display_name": "Python 3",
   "language": "python",
   "name": "python3"
  },
  "language_info": {
   "codemirror_mode": {
    "name": "ipython",
    "version": 3
   },
   "file_extension": ".py",
   "mimetype": "text/x-python",
   "name": "python",
   "nbconvert_exporter": "python",
   "pygments_lexer": "ipython3",
   "version": "3.10.11"
  },
  "orig_nbformat": 4
 },
 "nbformat": 4,
 "nbformat_minor": 2
}
