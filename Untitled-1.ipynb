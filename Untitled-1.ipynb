{
 "cells": [
  {
   "cell_type": "code",
   "execution_count": 1,
   "metadata": {},
   "outputs": [
    {
     "name": "stdout",
     "output_type": "stream",
     "text": [
      "n*(n + 1)/2\n"
     ]
    }
   ],
   "source": [
    "from sympy import *\n",
    "n, i = symbols('n i')\n",
    "print(Sum(i, (i, 1, n)).doit().simplify())\n",
    "\n",
    "\n",
    "\n"
   ]
  },
  {
   "cell_type": "code",
   "execution_count": 2,
   "metadata": {},
   "outputs": [
    {
     "data": {
      "text/latex": [
       "$\\displaystyle 24$"
      ],
      "text/plain": [
       "24"
      ]
     },
     "execution_count": 2,
     "metadata": {},
     "output_type": "execute_result"
    }
   ],
   "source": [
    "from sympy import *\n",
    "factorial(4)"
   ]
  },
  {
   "cell_type": "code",
   "execution_count": 21,
   "metadata": {},
   "outputs": [
    {
     "data": {
      "text/plain": [
       "[[1, 2, 3, 4],\n",
       " [1, 2, 4, 3],\n",
       " [1, 3, 2, 4],\n",
       " [1, 3, 4, 2],\n",
       " [1, 4, 2, 3],\n",
       " [1, 4, 3, 2],\n",
       " [2, 1, 3, 4],\n",
       " [2, 1, 4, 3],\n",
       " [2, 3, 1, 4],\n",
       " [2, 3, 4, 1],\n",
       " [2, 4, 1, 3],\n",
       " [2, 4, 3, 1],\n",
       " [3, 1, 2, 4],\n",
       " [3, 1, 4, 2],\n",
       " [3, 2, 1, 4],\n",
       " [3, 2, 4, 1],\n",
       " [3, 4, 1, 2],\n",
       " [3, 4, 2, 1],\n",
       " [4, 1, 2, 3],\n",
       " [4, 1, 3, 2],\n",
       " [4, 2, 1, 3],\n",
       " [4, 2, 3, 1],\n",
       " [4, 3, 1, 2],\n",
       " [4, 3, 2, 1]]"
      ]
     },
     "execution_count": 21,
     "metadata": {},
     "output_type": "execute_result"
    }
   ],
   "source": [
    "def permutations(n):\n",
    "    if n == 1:\n",
    "        return[[1]]\n",
    "    A = []\n",
    "    for a in permutations(n-1):\n",
    "        for i in range (n):\n",
    "            b=a.copy()\n",
    "            b.insert(i,n)\n",
    "            A.append(b)\n",
    "            A.sort()\n",
    "    return A\n",
    "\n",
    "permutations(4)\n"
   ]
  },
  {
   "cell_type": "code",
   "execution_count": 2,
   "metadata": {},
   "outputs": [
    {
     "data": {
      "text/plain": [
       "[[0, 0, 0, 3],\n",
       " [0, 0, 1, 2],\n",
       " [0, 0, 2, 1],\n",
       " [0, 0, 3, 0],\n",
       " [0, 1, 0, 2],\n",
       " [0, 1, 1, 1],\n",
       " [0, 1, 2, 0],\n",
       " [0, 2, 0, 1],\n",
       " [0, 2, 1, 0],\n",
       " [0, 3, 0, 0],\n",
       " [1, 0, 0, 2],\n",
       " [1, 0, 1, 1],\n",
       " [1, 0, 2, 0],\n",
       " [1, 1, 0, 1],\n",
       " [1, 1, 1, 0],\n",
       " [1, 2, 0, 0],\n",
       " [2, 0, 0, 1],\n",
       " [2, 0, 1, 0],\n",
       " [2, 1, 0, 0],\n",
       " [3, 0, 0, 0]]"
      ]
     },
     "execution_count": 2,
     "metadata": {},
     "output_type": "execute_result"
    }
   ],
   "source": [
    "def sols(n,r):\n",
    "    if n == 1:\n",
    "        return [[r]]\n",
    "    A = []\n",
    "    for k in range(r+1):\n",
    "        for a in sols(n-1, r-k):\n",
    "            a.insert(0,k)\n",
    "            A.append(a)\n",
    "    return A\n",
    "\n",
    "sols(4,3)"
   ]
  },
  {
   "cell_type": "code",
   "execution_count": null,
   "metadata": {},
   "outputs": [],
   "source": []
  }
 ],
 "metadata": {
  "kernelspec": {
   "display_name": "Python 3",
   "language": "python",
   "name": "python3"
  },
  "language_info": {
   "codemirror_mode": {
    "name": "ipython",
    "version": 3
   },
   "file_extension": ".py",
   "mimetype": "text/x-python",
   "name": "python",
   "nbconvert_exporter": "python",
   "pygments_lexer": "ipython3",
   "version": "3.11.2"
  },
  "orig_nbformat": 4,
  "vscode": {
   "interpreter": {
    "hash": "7e5c0badbb2d24bbc3f94f0128230c51073dab69f6205fe8338cbe6039d785c3"
   }
  }
 },
 "nbformat": 4,
 "nbformat_minor": 2
}
