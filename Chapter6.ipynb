{
 "cells": [
  {
   "cell_type": "code",
   "execution_count": 7,
   "metadata": {},
   "outputs": [
    {
     "data": {
      "text/plain": [
       "1"
      ]
     },
     "execution_count": 7,
     "metadata": {},
     "output_type": "execute_result"
    }
   ],
   "source": [
    "# phản xạ\n",
    "M = [[1, 0, 0, 0],\n",
    "    [0, 1, 0, 0],\n",
    "    [0, 0, 1, 1],\n",
    "    [0, 0, 0, 1]]\n",
    "m = len(M)\n",
    "a = 0\n",
    "s = 0\n",
    "for i in range(m):\n",
    "\n",
    "    for j in range(m):\n",
    "        if(i==j):\n",
    "            s+= M[i][j]\n",
    "    if(s == m):\n",
    "        a = 1\n",
    "a \n"
   ]
  },
  {
   "cell_type": "code",
   "execution_count": 8,
   "metadata": {},
   "outputs": [
    {
     "data": {
      "text/plain": [
       "1"
      ]
     },
     "execution_count": 8,
     "metadata": {},
     "output_type": "execute_result"
    }
   ],
   "source": [
    "# đối xứng\n",
    "M = [[1, 1, 0, 0],\n",
    "    [1, 1, 0, 0],\n",
    "    [0, 0, 1, 0],\n",
    "    [0, 0, 0, 1]]\n",
    "m = len(M)\n",
    "a = 1\n",
    "for i in range(m):\n",
    "    for j in range(m):\n",
    "        if(M[i][j] != M[j][i]):\n",
    "            a = 0\n",
    "a   \n"
   ]
  },
  {
   "cell_type": "code",
   "execution_count": null,
   "metadata": {},
   "outputs": [],
   "source": [
    "# bắc cầu\n",
    "M = [[1, 1, 0, 0],\n",
    "    [1, 1, 0, 0],\n",
    "    [0, 0, 1, 0],\n",
    "    [0, 0, 0, 1]]\n",
    "m = len(M)\n",
    "a = 1\n",
    "for i in range(m):\n",
    "    for j in range(m):\n",
    "        "
   ]
  },
  {
   "cell_type": "code",
   "execution_count": 1,
   "metadata": {},
   "outputs": [],
   "source": [
    "import numpy as np\n",
    "\n",
    "def is_transitive(matrix):\n",
    "    n = len(matrix)\n",
    "    if n != len(matrix[0]):\n",
    "        return False\n",
    "    for k in range(n):\n",
    "        power = np.array(matrix) @ np.array(matrix)\n",
    "        for i in range(n):\n",
    "            if power[i][i] == 0:\n",
    "                return False\n",
    "        if k < n - 1:\n",
    "            matrix = power.tolist()\n",
    "    return True"
   ]
  },
  {
   "cell_type": "code",
   "execution_count": null,
   "metadata": {},
   "outputs": [],
   "source": [
    "is_transitive()"
   ]
  },
  {
   "cell_type": "code",
   "execution_count": 2,
   "metadata": {},
   "outputs": [
    {
     "data": {
      "text/plain": [
       "0"
      ]
     },
     "execution_count": 2,
     "metadata": {},
     "output_type": "execute_result"
    }
   ],
   "source": [
    "# phản xứng\n",
    "M = [[1, 1, 1, 0],\n",
    "    [1, 1, 0, 0],\n",
    "    [0, 0, 1, 0],\n",
    "    [0, 0, 0, 1]]\n",
    "m = len(M)\n",
    "a = 1\n",
    "for i in range(m):\n",
    "    for j in range(m):\n",
    "        if(M[i][j] == M[j][i]):\n",
    "            a = 0\n",
    "a   "
   ]
  },
  {
   "cell_type": "code",
   "execution_count": null,
   "metadata": {},
   "outputs": [],
   "source": []
  }
 ],
 "metadata": {
  "kernelspec": {
   "display_name": "Python 3",
   "language": "python",
   "name": "python3"
  },
  "language_info": {
   "codemirror_mode": {
    "name": "ipython",
    "version": 3
   },
   "file_extension": ".py",
   "mimetype": "text/x-python",
   "name": "python",
   "nbconvert_exporter": "python",
   "pygments_lexer": "ipython3",
   "version": "3.10.11"
  },
  "orig_nbformat": 4
 },
 "nbformat": 4,
 "nbformat_minor": 2
}
