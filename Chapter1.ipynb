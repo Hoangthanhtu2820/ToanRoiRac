{
 "cells": [
  {
   "cell_type": "code",
   "execution_count": 6,
   "metadata": {},
   "outputs": [
    {
     "data": {
      "text/latex": [
       "$\\displaystyle \\frac{n \\left(n + 1\\right)}{2}$"
      ],
      "text/plain": [
       "n*(n + 1)/2"
      ]
     },
     "execution_count": 6,
     "metadata": {},
     "output_type": "execute_result"
    }
   ],
   "source": [
    "#Quy tac cong\n",
    "# counter = 0\n",
    "#for i in range(1,n+1):\n",
    "#    for j  in range(i):\n",
    "#         counter +=1\n",
    "\n",
    "from sympy import *\n",
    "n,i = symbols('n i')\n",
    "Sum(i,(i,1,n)).doit().simplify()"
   ]
  },
  {
   "cell_type": "code",
   "execution_count": 2,
   "metadata": {},
   "outputs": [],
   "source": [
    "#1.1 Lap trinh liet ke cac xau nhi phan co do dai n\n",
    "def binary(n):\n",
    "    if n==1:\n",
    "        return ['0','1']\n",
    "    A = []\n",
    "    for s in binary(n-1):\n",
    "         A.append('0'+s)\n",
    "    for s in binary(n-1):\n",
    "         A.append('1'+s)\n",
    "    return A\n",
    " "
   ]
  },
  {
   "cell_type": "code",
   "execution_count": 4,
   "metadata": {},
   "outputs": [
    {
     "data": {
      "text/plain": [
       "256"
      ]
     },
     "execution_count": 4,
     "metadata": {},
     "output_type": "execute_result"
    }
   ],
   "source": [
    "len(binary(8))"
   ]
  },
  {
   "cell_type": "code",
   "execution_count": 8,
   "metadata": {},
   "outputs": [
    {
     "data": {
      "text/plain": [
       "328"
      ]
     },
     "execution_count": 8,
     "metadata": {},
     "output_type": "execute_result"
    }
   ],
   "source": [
    "# lap trinh dem cac so tu nhien chan co 3 chu so khac nhau\n",
    "counter = 0\n",
    "for a in range(1,10):\n",
    "    for b in range(10):\n",
    "        for c in range(10):\n",
    "            if c%2 ==0 and a != b and b!=c and c!=a:\n",
    "                counter+=1\n",
    "                \n",
    "counter"
   ]
  },
  {
   "cell_type": "code",
   "execution_count": 18,
   "metadata": {},
   "outputs": [
    {
     "data": {
      "text/plain": [
       "59049"
      ]
     },
     "execution_count": 18,
     "metadata": {},
     "output_type": "execute_result"
    }
   ],
   "source": [
    "# co bao nhieu cach de sinh vien tra loi 10 cau hoi trong (dung,sai,khong tra loi)\n",
    "def trinary(n):\n",
    "    if n==1:\n",
    "        return ['0','1','2']\n",
    "    A=[]\n",
    "    for s in trinary(n-1):\n",
    "        A.append('0'+s)\n",
    "    for s in trinary(n-1):\n",
    "        A.append('1'+s)\n",
    "    for s in trinary(n-1):\n",
    "        A.append('2'+s)\n",
    "    return A\n",
    "\n",
    "len(trinary(10))\n"
   ]
  },
  {
   "cell_type": "code",
   "execution_count": 19,
   "metadata": {},
   "outputs": [
    {
     "data": {
      "text/latex": [
       "$\\displaystyle 97$"
      ],
      "text/plain": [
       "97"
      ]
     },
     "execution_count": 19,
     "metadata": {},
     "output_type": "execute_result"
    }
   ],
   "source": [
    "#tinh tong xich ma i tu 1->6 (i^2+1)\n",
    "from sympy import *\n",
    "i = symbols('i')\n",
    "Sum(i**2+1,(i,1,6)).doit()"
   ]
  },
  {
   "cell_type": "code",
   "execution_count": 7,
   "metadata": {},
   "outputs": [
    {
     "data": {
      "text/plain": [
       "[(1, 2, 3), (1, 3, 2), (2, 1, 3), (2, 3, 1), (3, 1, 2), (3, 2, 1)]"
      ]
     },
     "execution_count": 7,
     "metadata": {},
     "output_type": "execute_result"
    }
   ],
   "source": [
    "# liet ke so hoan vi cac so 1,2,3\n",
    "import itertools\n",
    "list(itertools.permutations([1,2,3]))\n",
    "\n"
   ]
  },
  {
   "cell_type": "code",
   "execution_count": 9,
   "metadata": {},
   "outputs": [
    {
     "data": {
      "text/latex": [
       "$\\displaystyle 24$"
      ],
      "text/plain": [
       "24"
      ]
     },
     "execution_count": 9,
     "metadata": {},
     "output_type": "execute_result"
    }
   ],
   "source": [
    "#dem so hoan vi cua 4\n",
    "from sympy import *\n",
    "factorial(4)"
   ]
  },
  {
   "cell_type": "code",
   "execution_count": 8,
   "metadata": {},
   "outputs": [
    {
     "data": {
      "text/plain": [
       "42"
      ]
     },
     "execution_count": 8,
     "metadata": {},
     "output_type": "execute_result"
    }
   ],
   "source": [
    "#Chinh hop chap 3 cua 1,2,3,4 P(4,3) = 4!/(4-3)!\n",
    "len(list(itertools.permutations([1,2,3,4,5,6,7],2)))\n"
   ]
  },
  {
   "cell_type": "code",
   "execution_count": 5,
   "metadata": {},
   "outputs": [
    {
     "data": {
      "text/latex": [
       "$\\displaystyle 1680$"
      ],
      "text/plain": [
       "1680"
      ]
     },
     "execution_count": 5,
     "metadata": {},
     "output_type": "execute_result"
    }
   ],
   "source": [
    "factorial(8)/factorial(8-4)"
   ]
  },
  {
   "cell_type": "code",
   "execution_count": 32,
   "metadata": {},
   "outputs": [
    {
     "data": {
      "text/plain": [
       "[[3, 2, 1], [2, 3, 1], [2, 1, 3], [3, 1, 2], [1, 3, 2], [1, 2, 3]]"
      ]
     },
     "execution_count": 32,
     "metadata": {},
     "output_type": "execute_result"
    }
   ],
   "source": [
    "# Lap trinh tong quat Hoan vi n phan tu\n",
    "def permutations(n):\n",
    "    if n==1:\n",
    "        return [[1]]\n",
    "    A=[]\n",
    "    for a in permutations(n-1):\n",
    "        for i in range(n):\n",
    "            b=a.copy()\n",
    "            b.insert(i,n)\n",
    "            A.append(b)\n",
    "\n",
    "    return A\n",
    "\n",
    "permutations(3)\n",
    "\n",
    "    "
   ]
  },
  {
   "cell_type": "code",
   "execution_count": 4,
   "metadata": {},
   "outputs": [
    {
     "data": {
      "text/plain": [
       "24"
      ]
     },
     "execution_count": 4,
     "metadata": {},
     "output_type": "execute_result"
    }
   ],
   "source": [
    "#lap trinh chinh hop\n",
    "def permutations(n,r):\n",
    "    if r==1:\n",
    "        return[[i] for i in range(1,n+1)]\n",
    "    A=[]\n",
    "    for a in permutations(n,r-1):\n",
    "        c=set([i for i in range(1,n+1)])-set(a)\n",
    "        for i in c:\n",
    "            b=a.copy()\n",
    "            b.append(i)\n",
    "            A.append(b)\n",
    "    return A\n",
    "\n",
    "len(permutations(4,3))\n",
    "\n",
    "\n"
   ]
  },
  {
   "cell_type": "code",
   "execution_count": 40,
   "metadata": {},
   "outputs": [
    {
     "data": {
      "text/plain": [
       "720"
      ]
     },
     "execution_count": 40,
     "metadata": {},
     "output_type": "execute_result"
    }
   ],
   "source": [
    "#Liet ke cac hoan vi cua FIT\n",
    "import itertools\n",
    "len(list(itertools.permutations(['a','f','g','i','w','x'])))"
   ]
  },
  {
   "cell_type": "code",
   "execution_count": 10,
   "metadata": {},
   "outputs": [
    {
     "data": {
      "text/latex": [
       "$\\displaystyle 10$"
      ],
      "text/plain": [
       "10"
      ]
     },
     "execution_count": 10,
     "metadata": {},
     "output_type": "execute_result"
    }
   ],
   "source": [
    "#so to hop 5 chap 3\n",
    "from sympy import *\n",
    "binomial(5,3)"
   ]
  },
  {
   "cell_type": "code",
   "execution_count": 6,
   "metadata": {},
   "outputs": [
    {
     "data": {
      "text/plain": [
       "[(1, 2, 3, 4, 5)]"
      ]
     },
     "execution_count": 6,
     "metadata": {},
     "output_type": "execute_result"
    }
   ],
   "source": [
    "#Liet ke so to hop cua day\n",
    "import itertools\n",
    "list(itertools.combinations([1,2,3,4,5],5))"
   ]
  },
  {
   "cell_type": "code",
   "execution_count": 15,
   "metadata": {},
   "outputs": [
    {
     "data": {
      "text/plain": [
       "[[1, 2, 3],\n",
       " [1, 2, 4],\n",
       " [1, 3, 4],\n",
       " [2, 3, 4],\n",
       " [1, 2, 5],\n",
       " [1, 3, 5],\n",
       " [2, 3, 5],\n",
       " [1, 4, 5],\n",
       " [2, 4, 5],\n",
       " [3, 4, 5]]"
      ]
     },
     "execution_count": 15,
     "metadata": {},
     "output_type": "execute_result"
    }
   ],
   "source": [
    "#Lap trinh to hop\n",
    "def combinations(n,r ):\n",
    "    if r ==1:\n",
    "        return [[ i ] for i in range(1,n+1)]\n",
    "    A = [ ]\n",
    "    for k in range(r , n+1):\n",
    "        for a in combinations(k-1 ,r-1):\n",
    "            a.append(k)\n",
    "            A.append(a)\n",
    "    return A\n",
    "\n",
    "combinations(5,3) "
   ]
  },
  {
   "cell_type": "code",
   "execution_count": 2,
   "metadata": {},
   "outputs": [],
   "source": [
    "#Tinh to hop ke sau\n",
    "def next_combination(n,a):\n",
    "    r=len(a)\n",
    "    i=r-1\n",
    "    while i>=0 and a[i] == n-r+(i+1):\n",
    "        i-=1\n",
    "\n",
    "    if i==-1:\n",
    "            return None\n",
    "    return a[:i] + [a[i] + j for j in range(1, r-i+1)]\n",
    "\n"
   ]
  },
  {
   "cell_type": "code",
   "execution_count": 9,
   "metadata": {},
   "outputs": [
    {
     "data": {
      "text/plain": [
       "[1, 3, 4, 5]"
      ]
     },
     "execution_count": 9,
     "metadata": {},
     "output_type": "execute_result"
    }
   ],
   "source": [
    "\n",
    "next_combination(6,[1,2,5,6])"
   ]
  },
  {
   "cell_type": "code",
   "execution_count": 7,
   "metadata": {},
   "outputs": [
    {
     "data": {
      "text/plain": [
       "[3, 6, 4, 1, 2, 5]"
      ]
     },
     "execution_count": 7,
     "metadata": {},
     "output_type": "execute_result"
    }
   ],
   "source": [
    "#Lap trinh tim hoan vi lien sau cua 1 hoan vi cho trc\n",
    "def next_permutation(a):\n",
    "    n=len(a)\n",
    "    k=n-1\n",
    "    while k>=1 and a[k-1]>a[k]:\n",
    "        k-=1\n",
    "    if k==0:\n",
    "        return None\n",
    "    i=n-1\n",
    "    while a[i]<a[k-1]:\n",
    "        i-=1\n",
    "    a[k-1], a[i] = a[i], a[k-1]\n",
    "    b=a[k:]\n",
    "    b.reverse()\n",
    "    return a[:k]+b\n",
    "\n",
    "next_permutation([3,6,2,5,4,1])"
   ]
  },
  {
   "cell_type": "code",
   "execution_count": null,
   "metadata": {},
   "outputs": [],
   "source": [
    "#liet ke tat ca cac hoan vi dung sau 1 hoan vi cho trc\n",
    "a=[3,6,2,5,4,1]\n",
    "while a is not None:\n",
    "    print(a)\n",
    "    a=next_permutation(a)"
   ]
  },
  {
   "cell_type": "code",
   "execution_count": 11,
   "metadata": {},
   "outputs": [
    {
     "data": {
      "text/plain": [
       "[1, 0, 0, 0, 0, 1, 0, 1, 0, 0, 1]"
      ]
     },
     "execution_count": 11,
     "metadata": {},
     "output_type": "execute_result"
    }
   ],
   "source": [
    "#Lap trinh tim sau nhi phan lien sau sau nhi phan trc no\n",
    "a=[1,0,0,0,0,1,0,1,0,0,0]\n",
    "def next_bin_str(a):\n",
    "    n=len(a)\n",
    "    i=n-1\n",
    "    while i>=0 and a[i]==i:\n",
    "        i-=1\n",
    "    if i==-1:\n",
    "        return None\n",
    "    for j in range(i,n):\n",
    "        a[j]=1-a[j]\n",
    "    return a\n",
    "\n",
    "next_bin_str(a)"
   ]
  },
  {
   "cell_type": "code",
   "execution_count": 13,
   "metadata": {},
   "outputs": [
    {
     "data": {
      "text/plain": [
       "'>'"
      ]
     },
     "execution_count": 13,
     "metadata": {},
     "output_type": "execute_result"
    }
   ],
   "source": [
    "#Kiem tra thu tu tu dien cua 2 day\n",
    "def compare(a,b):\n",
    "    m,n=len(a),len(b)\n",
    "    i=0\n",
    "    while i<m and i<n and a[i] == b[i]:\n",
    "        i+=1\n",
    "    if i==m==n:\n",
    "        return('=')\n",
    "    if i==m<n:\n",
    "        return('<')\n",
    "    if i==n<m:\n",
    "        return('>')\n",
    "    if i<m and i<n:\n",
    "        if a[i]<b[i]:\n",
    "            return('<')\n",
    "        else:\n",
    "            return('>')\n",
    "\n",
    "compare([3,1,4],[3,1,2,5])"
   ]
  },
  {
   "cell_type": "code",
   "execution_count": null,
   "metadata": {},
   "outputs": [],
   "source": [
    "#Hoan vi lap COOL= 4!/(1!*1!*2!)\n",
    "#Lap trinh tim cac duong di tren luoi nguyen Oxy\n",
    "def walks(a,b,x,y):\n",
    "    if a==x:\n",
    "        return['U' *(y-b)]\n",
    "    if b==y:\n",
    "        return ['R' *(x-a)]\n",
    "    A = []\n",
    "    for w in walks(a,b,x-1,y):\n",
    "        A.append(w+'R')\n",
    "    for w in walks(a,b,x,y-1):\n",
    "        A.append(w+'U')\n",
    "    return A\n",
    "\n",
    "walks(2,1,7,4)"
   ]
  },
  {
   "cell_type": "code",
   "execution_count": 20,
   "metadata": {},
   "outputs": [
    {
     "data": {
      "text/latex": [
       "$\\displaystyle 42$"
      ],
      "text/plain": [
       "42"
      ]
     },
     "execution_count": 20,
     "metadata": {},
     "output_type": "execute_result"
    }
   ],
   "source": [
    "#Tim he so cua x*y*z^5 cua (x+y+z)^7\n",
    "from sympy import *\n",
    "x,y,z=symbols('x,y,z')\n",
    "((x+y+z)**7).expand().coeff(x * y * z**5)"
   ]
  },
  {
   "cell_type": "code",
   "execution_count": 8,
   "metadata": {},
   "outputs": [
    {
     "data": {
      "text/plain": [
       "55"
      ]
     },
     "execution_count": 8,
     "metadata": {},
     "output_type": "execute_result"
    }
   ],
   "source": [
    "#To Hop Lap\n",
    "#Cach chon 4 san pham tu 3 san phan A,B,C\n",
    "import itertools\n",
    "len(list(itertools.combinations_with_replacement(['A','B','C'],9)))"
   ]
  },
  {
   "cell_type": "code",
   "execution_count": 23,
   "metadata": {},
   "outputs": [
    {
     "data": {
      "text/plain": [
       "[[0, 0, 0, 3],\n",
       " [0, 0, 1, 2],\n",
       " [0, 0, 2, 1],\n",
       " [0, 0, 3, 0],\n",
       " [0, 1, 0, 2],\n",
       " [0, 1, 1, 1],\n",
       " [0, 1, 2, 0],\n",
       " [0, 2, 0, 1],\n",
       " [0, 2, 1, 0],\n",
       " [0, 3, 0, 0],\n",
       " [1, 0, 0, 2],\n",
       " [1, 0, 1, 1],\n",
       " [1, 0, 2, 0],\n",
       " [1, 1, 0, 1],\n",
       " [1, 1, 1, 0],\n",
       " [1, 2, 0, 0],\n",
       " [2, 0, 0, 1],\n",
       " [2, 0, 1, 0],\n",
       " [2, 1, 0, 0],\n",
       " [3, 0, 0, 0]]"
      ]
     },
     "execution_count": 23,
     "metadata": {},
     "output_type": "execute_result"
    }
   ],
   "source": [
    "# To hop lap chap r cua n loai vat\n",
    "#c1\n",
    "def sols(n,r):\n",
    "    if n == 1:\n",
    "        return [[r]]\n",
    "    A = []\n",
    "    for k in range(r+1):\n",
    "        for a in sols(n-1, r-k):\n",
    "            a.insert(0,k)\n",
    "            A.append(a)\n",
    "    return A\n",
    "\n",
    "sols(4,3)\n",
    "\n"
   ]
  },
  {
   "cell_type": "code",
   "execution_count": null,
   "metadata": {},
   "outputs": [],
   "source": []
  }
 ],
 "metadata": {
  "kernelspec": {
   "display_name": "Python 3",
   "language": "python",
   "name": "python3"
  },
  "language_info": {
   "codemirror_mode": {
    "name": "ipython",
    "version": 3
   },
   "file_extension": ".py",
   "mimetype": "text/x-python",
   "name": "python",
   "nbconvert_exporter": "python",
   "pygments_lexer": "ipython3",
   "version": "3.10.11"
  },
  "orig_nbformat": 4
 },
 "nbformat": 4,
 "nbformat_minor": 2
}
